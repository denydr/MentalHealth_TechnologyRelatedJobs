{
 "cells": [
  {
   "cell_type": "code",
   "execution_count": 1,
   "id": "b6161e64-0e43-4818-a42c-665c7fac4b44",
   "metadata": {},
   "outputs": [],
   "source": [
    "# Import necessary libraries\n",
    "import pandas as pd\n",
    "import numpy as np\n",
    "import matplotlib.pyplot as plt\n",
    "import seaborn as sns\n",
    "import sklearn\n",
    "from sklearn.preprocessing import StandardScaler, OneHotEncoder\n",
    "from sklearn.impute import SimpleImputer\n",
    "from sklearn.decomposition import PCA\n",
    "from sklearn.cluster import KMeans\n",
    "from sklearn.metrics import silhouette_score\n",
    "from sklearn.pipeline import Pipeline\n",
    "from sklearn.compose import ColumnTransformer\n",
    "import warnings\n",
    "warnings.filterwarnings('ignore')"
   ]
  },
  {
   "cell_type": "code",
   "execution_count": 2,
   "id": "2b009d86-5ead-4adc-a3db-969c5772a225",
   "metadata": {},
   "outputs": [
    {
     "name": "stdout",
     "output_type": "stream",
     "text": [
      "scikit-learn version: 1.4.2\n"
     ]
    }
   ],
   "source": [
    "# Check scikit-learn version\n",
    "sklearn_version = sklearn.__version__\n",
    "print(f\"scikit-learn version: {sklearn_version}\")"
   ]
  },
  {
   "cell_type": "markdown",
   "id": "da134ece-e287-45dd-b9db-0b15498dceba",
   "metadata": {},
   "source": [
    "### 1. Data Loading and Initial Exploration"
   ]
  },
  {
   "cell_type": "code",
   "execution_count": 3,
   "id": "40d9191d-3386-44f8-9afd-7b1721d51eb1",
   "metadata": {},
   "outputs": [],
   "source": [
    "# Load the dataset\n",
    "df = pd.read_csv('mental-heath-in-tech-2016_20161114.csv')"
   ]
  },
  {
   "cell_type": "code",
   "execution_count": 4,
   "id": "0107df31-b07a-4a9f-a785-e860c81a0ffa",
   "metadata": {},
   "outputs": [
    {
     "name": "stdout",
     "output_type": "stream",
     "text": [
      "<class 'pandas.core.frame.DataFrame'>\n",
      "RangeIndex: 1433 entries, 0 to 1432\n",
      "Data columns (total 63 columns):\n",
      " #   Column                                                                                                                                                                            Non-Null Count  Dtype  \n",
      "---  ------                                                                                                                                                                            --------------  -----  \n",
      " 0   Are you self-employed?                                                                                                                                                            1433 non-null   int64  \n",
      " 1   How many employees does your company or organization have?                                                                                                                        1146 non-null   object \n",
      " 2   Is your employer primarily a tech company/organization?                                                                                                                           1146 non-null   float64\n",
      " 3   Is your primary role within your company related to tech/IT?                                                                                                                      263 non-null    float64\n",
      " 4   Does your employer provide mental health benefits as part of healthcare coverage?                                                                                                 1146 non-null   object \n",
      " 5   Do you know the options for mental health care available under your employer-provided coverage?                                                                                   1013 non-null   object \n",
      " 6   Has your employer ever formally discussed mental health (for example, as part of a wellness campaign or other official communication)?                                            1146 non-null   object \n",
      " 7   Does your employer offer resources to learn more about mental health concerns and options for seeking help?                                                                       1146 non-null   object \n",
      " 8   Is your anonymity protected if you choose to take advantage of mental health or substance abuse treatment resources provided by your employer?                                    1146 non-null   object \n",
      " 9   If a mental health issue prompted you to request a medical leave from work, asking for that leave would be:                                                                       1146 non-null   object \n",
      " 10  Do you think that discussing a mental health disorder with your employer would have negative consequences?                                                                        1146 non-null   object \n",
      " 11  Do you think that discussing a physical health issue with your employer would have negative consequences?                                                                         1146 non-null   object \n",
      " 12  Would you feel comfortable discussing a mental health disorder with your coworkers?                                                                                               1146 non-null   object \n",
      " 13  Would you feel comfortable discussing a mental health disorder with your direct supervisor(s)?                                                                                    1146 non-null   object \n",
      " 14  Do you feel that your employer takes mental health as seriously as physical health?                                                                                               1146 non-null   object \n",
      " 15  Have you heard of or observed negative consequences for co-workers who have been open about mental health issues in your workplace?                                               1146 non-null   object \n",
      " 16  Do you have medical coverage (private insurance or state-provided) which includes treatment of  mental health issues?                                                             287 non-null    float64\n",
      " 17  Do you know local or online resources to seek help for a mental health disorder?                                                                                                  287 non-null    object \n",
      " 18  If you have been diagnosed or treated for a mental health disorder, do you ever reveal this to clients or business contacts?                                                      287 non-null    object \n",
      " 19  If you have revealed a mental health issue to a client or business contact, do you believe this has impacted you negatively?                                                      144 non-null    object \n",
      " 20  If you have been diagnosed or treated for a mental health disorder, do you ever reveal this to coworkers or employees?                                                            287 non-null    object \n",
      " 21  If you have revealed a mental health issue to a coworker or employee, do you believe this has impacted you negatively?                                                            287 non-null    object \n",
      " 22  Do you believe your productivity is ever affected by a mental health issue?                                                                                                       287 non-null    object \n",
      " 23  If yes, what percentage of your work time (time performing primary or secondary job functions) is affected by a mental health issue?                                              204 non-null    object \n",
      " 24  Do you have previous employers?                                                                                                                                                   1433 non-null   int64  \n",
      " 25  Have your previous employers provided mental health benefits?                                                                                                                     1264 non-null   object \n",
      " 26  Were you aware of the options for mental health care provided by your previous employers?                                                                                         1264 non-null   object \n",
      " 27  Did your previous employers ever formally discuss mental health (as part of a wellness campaign or other official communication)?                                                 1264 non-null   object \n",
      " 28  Did your previous employers provide resources to learn more about mental health issues and how to seek help?                                                                      1264 non-null   object \n",
      " 29  Was your anonymity protected if you chose to take advantage of mental health or substance abuse treatment resources with previous employers?                                      1264 non-null   object \n",
      " 30  Do you think that discussing a mental health disorder with previous employers would have negative consequences?                                                                   1264 non-null   object \n",
      " 31  Do you think that discussing a physical health issue with previous employers would have negative consequences?                                                                    1264 non-null   object \n",
      " 32  Would you have been willing to discuss a mental health issue with your previous co-workers?                                                                                       1264 non-null   object \n",
      " 33  Would you have been willing to discuss a mental health issue with your direct supervisor(s)?                                                                                      1264 non-null   object \n",
      " 34  Did you feel that your previous employers took mental health as seriously as physical health?                                                                                     1264 non-null   object \n",
      " 35  Did you hear of or observe negative consequences for co-workers with mental health issues in your previous workplaces?                                                            1264 non-null   object \n",
      " 36  Would you be willing to bring up a physical health issue with a potential employer in an interview?                                                                               1433 non-null   object \n",
      " 37  Why or why not?                                                                                                                                                                   1095 non-null   object \n",
      " 38  Would you bring up a mental health issue with a potential employer in an interview?                                                                                               1433 non-null   object \n",
      " 39  Why or why not?.1                                                                                                                                                                 1126 non-null   object \n",
      " 40  Do you feel that being identified as a person with a mental health issue would hurt your career?                                                                                  1433 non-null   object \n",
      " 41  Do you think that team members/co-workers would view you more negatively if they knew you suffered from a mental health issue?                                                    1433 non-null   object \n",
      " 42  How willing would you be to share with friends and family that you have a mental illness?                                                                                         1433 non-null   object \n",
      " 43  Have you observed or experienced an unsupportive or badly handled response to a mental health issue in your current or previous workplace?                                        1344 non-null   object \n",
      " 44  Have your observations of how another individual who discussed a mental health disorder made you less likely to reveal a mental health issue yourself in your current workplace?  657 non-null    object \n",
      " 45  Do you have a family history of mental illness?                                                                                                                                   1433 non-null   object \n",
      " 46  Have you had a mental health disorder in the past?                                                                                                                                1433 non-null   object \n",
      " 47  Do you currently have a mental health disorder?                                                                                                                                   1433 non-null   object \n",
      " 48  If yes, what condition(s) have you been diagnosed with?                                                                                                                           568 non-null    object \n",
      " 49  If maybe, what condition(s) do you believe you have?                                                                                                                              322 non-null    object \n",
      " 50  Have you been diagnosed with a mental health condition by a medical professional?                                                                                                 1433 non-null   object \n",
      " 51  If so, what condition(s) were you diagnosed with?                                                                                                                                 711 non-null    object \n",
      " 52  Have you ever sought treatment for a mental health issue from a mental health professional?                                                                                       1433 non-null   int64  \n",
      " 53  If you have a mental health issue, do you feel that it interferes with your work when being treated effectively?                                                                  1433 non-null   object \n",
      " 54  If you have a mental health issue, do you feel that it interferes with your work when NOT being treated effectively?                                                              1433 non-null   object \n",
      " 55  What is your age?                                                                                                                                                                 1433 non-null   int64  \n",
      " 56  What is your gender?                                                                                                                                                              1430 non-null   object \n",
      " 57  What country do you live in?                                                                                                                                                      1433 non-null   object \n",
      " 58  What US state or territory do you live in?                                                                                                                                        840 non-null    object \n",
      " 59  What country do you work in?                                                                                                                                                      1433 non-null   object \n",
      " 60  What US state or territory do you work in?                                                                                                                                        851 non-null    object \n",
      " 61  Which of the following best describes your work position?                                                                                                                         1433 non-null   object \n",
      " 62  Do you work remotely?                                                                                                                                                             1433 non-null   object \n",
      "dtypes: float64(3), int64(4), object(56)\n",
      "memory usage: 705.4+ KB\n",
      "None\n"
     ]
    }
   ],
   "source": [
    "# Display basic information about the dataset\n",
    "print(df.info())"
   ]
  },
  {
   "cell_type": "code",
   "execution_count": 5,
   "id": "6e90c008-4f35-41e9-a79b-ed13dbc1b56c",
   "metadata": {},
   "outputs": [
    {
     "name": "stdout",
     "output_type": "stream",
     "text": [
      "   Are you self-employed?  \\\n",
      "0                       0   \n",
      "1                       0   \n",
      "2                       0   \n",
      "3                       1   \n",
      "4                       0   \n",
      "\n",
      "  How many employees does your company or organization have?  \\\n",
      "0                                             26-100           \n",
      "1                                               6-25           \n",
      "2                                               6-25           \n",
      "3                                                NaN           \n",
      "4                                               6-25           \n",
      "\n",
      "   Is your employer primarily a tech company/organization?  \\\n",
      "0                                                1.0         \n",
      "1                                                1.0         \n",
      "2                                                1.0         \n",
      "3                                                NaN         \n",
      "4                                                0.0         \n",
      "\n",
      "   Is your primary role within your company related to tech/IT?  \\\n",
      "0                                                NaN              \n",
      "1                                                NaN              \n",
      "2                                                NaN              \n",
      "3                                                NaN              \n",
      "4                                                1.0              \n",
      "\n",
      "  Does your employer provide mental health benefits as part of healthcare coverage?  \\\n",
      "0                    Not eligible for coverage / N/A                                  \n",
      "1                                                 No                                  \n",
      "2                                                 No                                  \n",
      "3                                                NaN                                  \n",
      "4                                                Yes                                  \n",
      "\n",
      "  Do you know the options for mental health care available under your employer-provided coverage?  \\\n",
      "0                                                NaN                                                \n",
      "1                                                Yes                                                \n",
      "2                                                NaN                                                \n",
      "3                                                NaN                                                \n",
      "4                                                Yes                                                \n",
      "\n",
      "  Has your employer ever formally discussed mental health (for example, as part of a wellness campaign or other official communication)?  \\\n",
      "0                                                 No                                                                                       \n",
      "1                                                Yes                                                                                       \n",
      "2                                                 No                                                                                       \n",
      "3                                                NaN                                                                                       \n",
      "4                                                 No                                                                                       \n",
      "\n",
      "  Does your employer offer resources to learn more about mental health concerns and options for seeking help?  \\\n",
      "0                                                 No                                                            \n",
      "1                                                Yes                                                            \n",
      "2                                                 No                                                            \n",
      "3                                                NaN                                                            \n",
      "4                                                 No                                                            \n",
      "\n",
      "  Is your anonymity protected if you choose to take advantage of mental health or substance abuse treatment resources provided by your employer?  \\\n",
      "0                                       I don't know                                                                                               \n",
      "1                                                Yes                                                                                               \n",
      "2                                       I don't know                                                                                               \n",
      "3                                                NaN                                                                                               \n",
      "4                                                 No                                                                                               \n",
      "\n",
      "  If a mental health issue prompted you to request a medical leave from work, asking for that leave would be:  \\\n",
      "0                                          Very easy                                                            \n",
      "1                                      Somewhat easy                                                            \n",
      "2                         Neither easy nor difficult                                                            \n",
      "3                                                NaN                                                            \n",
      "4                         Neither easy nor difficult                                                            \n",
      "\n",
      "   ...  \\\n",
      "0  ...   \n",
      "1  ...   \n",
      "2  ...   \n",
      "3  ...   \n",
      "4  ...   \n",
      "\n",
      "  If you have a mental health issue, do you feel that it interferes with your work when being treated effectively?  \\\n",
      "0                               Not applicable to me                                                                 \n",
      "1                                             Rarely                                                                 \n",
      "2                               Not applicable to me                                                                 \n",
      "3                                          Sometimes                                                                 \n",
      "4                                          Sometimes                                                                 \n",
      "\n",
      "  If you have a mental health issue, do you feel that it interferes with your work when NOT being treated effectively?  \\\n",
      "0                               Not applicable to me                                                                     \n",
      "1                                          Sometimes                                                                     \n",
      "2                               Not applicable to me                                                                     \n",
      "3                                          Sometimes                                                                     \n",
      "4                                          Sometimes                                                                     \n",
      "\n",
      "  What is your age? What is your gender? What country do you live in?  \\\n",
      "0                39                 Male               United Kingdom   \n",
      "1                29                 male     United States of America   \n",
      "2                38                Male                United Kingdom   \n",
      "3                43                 male               United Kingdom   \n",
      "4                43               Female     United States of America   \n",
      "\n",
      "  What US state or territory do you live in?  What country do you work in?  \\\n",
      "0                                        NaN                United Kingdom   \n",
      "1                                   Illinois      United States of America   \n",
      "2                                        NaN                United Kingdom   \n",
      "3                                        NaN                United Kingdom   \n",
      "4                                   Illinois      United States of America   \n",
      "\n",
      "  What US state or territory do you work in?  \\\n",
      "0                                        NaN   \n",
      "1                                   Illinois   \n",
      "2                                        NaN   \n",
      "3                                        NaN   \n",
      "4                                   Illinois   \n",
      "\n",
      "  Which of the following best describes your work position?  \\\n",
      "0                                 Back-end Developer          \n",
      "1             Back-end Developer|Front-end Developer          \n",
      "2                                 Back-end Developer          \n",
      "3                               Supervisor/Team Lead          \n",
      "4  Executive Leadership|Supervisor/Team Lead|Dev ...          \n",
      "\n",
      "  Do you work remotely?  \n",
      "0             Sometimes  \n",
      "1                 Never  \n",
      "2                Always  \n",
      "3             Sometimes  \n",
      "4             Sometimes  \n",
      "\n",
      "[5 rows x 63 columns]\n"
     ]
    }
   ],
   "source": [
    "# Display the first few rows\n",
    "print(df.head())"
   ]
  },
  {
   "cell_type": "code",
   "execution_count": 6,
   "id": "c497123d-ebb4-4344-9cbe-a640fc0b8d81",
   "metadata": {},
   "outputs": [
    {
     "name": "stdout",
     "output_type": "stream",
     "text": [
      "       Are you self-employed?  \\\n",
      "count             1433.000000   \n",
      "mean                 0.200279   \n",
      "std                  0.400349   \n",
      "min                  0.000000   \n",
      "25%                  0.000000   \n",
      "50%                  0.000000   \n",
      "75%                  0.000000   \n",
      "max                  1.000000   \n",
      "\n",
      "       Is your employer primarily a tech company/organization?  \\\n",
      "count                                        1146.000000         \n",
      "mean                                            0.770506         \n",
      "std                                             0.420691         \n",
      "min                                             0.000000         \n",
      "25%                                             1.000000         \n",
      "50%                                             1.000000         \n",
      "75%                                             1.000000         \n",
      "max                                             1.000000         \n",
      "\n",
      "       Is your primary role within your company related to tech/IT?  \\\n",
      "count                                         263.000000              \n",
      "mean                                            0.942966              \n",
      "std                                             0.232350              \n",
      "min                                             0.000000              \n",
      "25%                                             1.000000              \n",
      "50%                                             1.000000              \n",
      "75%                                             1.000000              \n",
      "max                                             1.000000              \n",
      "\n",
      "       Do you have medical coverage (private insurance or state-provided) which includes treatment of  mental health issues?  \\\n",
      "count                                         287.000000                                                                       \n",
      "mean                                            0.644599                                                                       \n",
      "std                                             0.479471                                                                       \n",
      "min                                             0.000000                                                                       \n",
      "25%                                             0.000000                                                                       \n",
      "50%                                             1.000000                                                                       \n",
      "75%                                             1.000000                                                                       \n",
      "max                                             1.000000                                                                       \n",
      "\n",
      "       Do you have previous employers?  \\\n",
      "count                      1433.000000   \n",
      "mean                          0.882066   \n",
      "std                           0.322643   \n",
      "min                           0.000000   \n",
      "25%                           1.000000   \n",
      "50%                           1.000000   \n",
      "75%                           1.000000   \n",
      "max                           1.000000   \n",
      "\n",
      "       Have you ever sought treatment for a mental health issue from a mental health professional?  \\\n",
      "count                                        1433.000000                                             \n",
      "mean                                            0.585485                                             \n",
      "std                                             0.492810                                             \n",
      "min                                             0.000000                                             \n",
      "25%                                             0.000000                                             \n",
      "50%                                             1.000000                                             \n",
      "75%                                             1.000000                                             \n",
      "max                                             1.000000                                             \n",
      "\n",
      "       What is your age?  \n",
      "count        1433.000000  \n",
      "mean           34.286113  \n",
      "std            11.290931  \n",
      "min             3.000000  \n",
      "25%            28.000000  \n",
      "50%            33.000000  \n",
      "75%            39.000000  \n",
      "max           323.000000  \n"
     ]
    }
   ],
   "source": [
    "# Display summary statistics\n",
    "print(df.describe())"
   ]
  },
  {
   "cell_type": "code",
   "execution_count": 7,
   "id": "e4e165d8-392a-486c-9783-3767f688ca59",
   "metadata": {
    "scrolled": true
   },
   "outputs": [
    {
     "name": "stdout",
     "output_type": "stream",
     "text": [
      "Are you self-employed?                                                                  0\n",
      "How many employees does your company or organization have?                            287\n",
      "Is your employer primarily a tech company/organization?                               287\n",
      "Is your primary role within your company related to tech/IT?                         1170\n",
      "Does your employer provide mental health benefits as part of healthcare coverage?     287\n",
      "                                                                                     ... \n",
      "What US state or territory do you live in?                                            593\n",
      "What country do you work in?                                                            0\n",
      "What US state or territory do you work in?                                            582\n",
      "Which of the following best describes your work position?                               0\n",
      "Do you work remotely?                                                                   0\n",
      "Length: 63, dtype: int64\n"
     ]
    }
   ],
   "source": [
    "# Check for missing values\n",
    "print(df.isnull().sum())"
   ]
  },
  {
   "cell_type": "markdown",
   "id": "8979b0de-ed95-4c73-8fee-bc78dba52f27",
   "metadata": {},
   "source": [
    "**Explanation:**  \n",
    "We start by loading the dataset and performing initial exploratory data analysis.  \n",
    "This helps us understand the structure of the data, including the number of features, data types, and presence of missing values.  "
   ]
  },
  {
   "cell_type": "markdown",
   "id": "50eb773e-53fd-49c3-a43d-2b2aa766ef09",
   "metadata": {},
   "source": [
    "### 2. Data Preprocessing"
   ]
  },
  {
   "cell_type": "code",
   "execution_count": 8,
   "id": "ee668280-33fb-4f64-af98-3366ed62b3de",
   "metadata": {},
   "outputs": [],
   "source": [
    "# Select all columns as relevant features\n",
    "relevant_features = df.columns.tolist()"
   ]
  },
  {
   "cell_type": "code",
   "execution_count": 9,
   "id": "6953cdd1-c25a-4ea0-8b27-f3cf20e279ab",
   "metadata": {},
   "outputs": [],
   "source": [
    "# Remove any non-informative columns (you may need to adjust this based on your dataset)\n",
    "relevant_features = [col for col in relevant_features if col not in ['Timestamp', 'comments']]"
   ]
  },
  {
   "cell_type": "code",
   "execution_count": 10,
   "id": "2ac3c1f0-f41e-4798-b678-7b85927f6d50",
   "metadata": {},
   "outputs": [],
   "source": [
    "df_selected = df[relevant_features]"
   ]
  },
  {
   "cell_type": "code",
   "execution_count": 11,
   "id": "2860771d-3beb-4d69-be27-b59ffd8f401a",
   "metadata": {},
   "outputs": [],
   "source": [
    "# Identify numeric and categorical columns\n",
    "numeric_features = df_selected.select_dtypes(include=['int64', 'float64']).columns.tolist()\n",
    "categorical_features = df_selected.select_dtypes(include=['object']).columns.tolist()"
   ]
  },
  {
   "cell_type": "code",
   "execution_count": 12,
   "id": "b6585d9f-f634-4786-a01b-e6cc31350c5b",
   "metadata": {},
   "outputs": [
    {
     "name": "stdout",
     "output_type": "stream",
     "text": [
      "Numeric features: ['Are you self-employed?', 'Is your employer primarily a tech company/organization?', 'Is your primary role within your company related to tech/IT?', 'Do you have medical coverage (private insurance or state-provided) which includes treatment of \\xa0mental health issues?', 'Do you have previous employers?', 'Have you ever sought treatment for a mental health issue from a mental health professional?', 'What is your age?']\n"
     ]
    }
   ],
   "source": [
    "print(\"Numeric features:\", numeric_features)"
   ]
  },
  {
   "cell_type": "code",
   "execution_count": 13,
   "id": "eb27fbfb-03ef-4a3f-8914-1f963dab7fb6",
   "metadata": {},
   "outputs": [
    {
     "name": "stdout",
     "output_type": "stream",
     "text": [
      "Categorical features: ['How many employees does your company or organization have?', 'Does your employer provide mental health benefits as part of healthcare coverage?', 'Do you know the options for mental health care available under your employer-provided coverage?', 'Has your employer ever formally discussed mental health (for example, as part of a wellness campaign or other official communication)?', 'Does your employer offer resources to learn more about mental health concerns and options for seeking help?', 'Is your anonymity protected if you choose to take advantage of mental health or substance abuse treatment resources provided by your employer?', 'If a mental health issue prompted you to request a medical leave from work, asking for that leave would be:', 'Do you think that discussing a mental health disorder with your employer would have negative consequences?', 'Do you think that discussing a physical health issue with your employer would have negative consequences?', 'Would you feel comfortable discussing a mental health disorder with your coworkers?', 'Would you feel comfortable discussing a mental health disorder with your direct supervisor(s)?', 'Do you feel that your employer takes mental health as seriously as physical health?', 'Have you heard of or observed negative consequences for co-workers who have been open about mental health issues in your workplace?', 'Do you know local or online resources to seek help for a mental health disorder?', 'If you have been diagnosed or treated for a mental health disorder, do you ever reveal this to clients or business contacts?', 'If you have revealed a mental health issue to a client or business contact, do you believe this has impacted you negatively?', 'If you have been diagnosed or treated for a mental health disorder, do you ever reveal this to coworkers or employees?', 'If you have revealed a mental health issue to a coworker or employee, do you believe this has impacted you negatively?', 'Do you believe your productivity is ever affected by a mental health issue?', 'If yes, what percentage of your work time (time performing primary or secondary job functions) is affected by a mental health issue?', 'Have your previous employers provided mental health benefits?', 'Were you aware of the options for mental health care provided by your previous employers?', 'Did your previous employers ever formally discuss mental health (as part of a wellness campaign or other official communication)?', 'Did your previous employers provide resources to learn more about mental health issues and how to seek help?', 'Was your anonymity protected if you chose to take advantage of mental health or substance abuse treatment resources with previous employers?', 'Do you think that discussing a mental health disorder with previous employers would have negative consequences?', 'Do you think that discussing a physical health issue with previous employers would have negative consequences?', 'Would you have been willing to discuss a mental health issue with your previous co-workers?', 'Would you have been willing to discuss a mental health issue with your direct supervisor(s)?', 'Did you feel that your previous employers took mental health as seriously as physical health?', 'Did you hear of or observe negative consequences for co-workers with mental health issues in your previous workplaces?', 'Would you be willing to bring up a physical health issue with a potential employer in an interview?', 'Why or why not?', 'Would you bring up a mental health issue with a potential employer in an interview?', 'Why or why not?.1', 'Do you feel that being identified as a person with a mental health issue would hurt your career?', 'Do you think that team members/co-workers would view you more negatively if they knew you suffered from a mental health issue?', 'How willing would you be to share with friends and family that you have a mental illness?', 'Have you observed or experienced an unsupportive or badly handled response to a mental health issue in your current or previous workplace?', 'Have your observations of how another individual who discussed a mental health disorder made you less likely to reveal a mental health issue yourself in your current workplace?', 'Do you have a family history of mental illness?', 'Have you had a mental health disorder in the past?', 'Do you currently have a mental health disorder?', 'If yes, what condition(s) have you been diagnosed with?', 'If maybe, what condition(s) do you believe you have?', 'Have you been diagnosed with a mental health condition by a medical professional?', 'If so, what condition(s) were you diagnosed with?', 'If you have a mental health issue, do you feel that it interferes with your work when being treated effectively?', 'If you have a mental health issue, do you feel that it interferes with your work when NOT being treated effectively?', 'What is your gender?', 'What country do you live in?', 'What US state or territory do you live in?', 'What country do you work in?', 'What US state or territory do you work in?', 'Which of the following best describes your work position?', 'Do you work remotely?']\n"
     ]
    }
   ],
   "source": [
    "print(\"Categorical features:\", categorical_features)"
   ]
  },
  {
   "cell_type": "code",
   "execution_count": 14,
   "id": "e65613f6-90cb-4a7f-9731-47eb09104c54",
   "metadata": {},
   "outputs": [],
   "source": [
    "# Create preprocessing pipelines\n",
    "numeric_transformer = Pipeline(steps=[\n",
    "    ('imputer', SimpleImputer(strategy='median')),\n",
    "    ('scaler', StandardScaler())\n",
    "])"
   ]
  },
  {
   "cell_type": "code",
   "execution_count": 15,
   "id": "2758511e-d4a8-459f-9ecf-c42d99c9d26a",
   "metadata": {},
   "outputs": [],
   "source": [
    "# Create the OneHotEncoder based on the scikit-learn version\n",
    "if sklearn.__version__ >= \"1.2\":\n",
    "    onehot_encoder = OneHotEncoder(drop='first', sparse_output=False, handle_unknown='ignore')\n",
    "else:\n",
    "    onehot_encoder = OneHotEncoder(drop='first', sparse=False, handle_unknown='ignore')"
   ]
  },
  {
   "cell_type": "code",
   "execution_count": 16,
   "id": "01631ca9-f739-4688-b953-93a93d20d771",
   "metadata": {},
   "outputs": [],
   "source": [
    "# Now use this in your Pipeline\n",
    "categorical_transformer = Pipeline(steps=[\n",
    "    ('imputer', SimpleImputer(strategy='most_frequent')),\n",
    "    ('onehot', onehot_encoder)\n",
    "])"
   ]
  },
  {
   "cell_type": "code",
   "execution_count": 17,
   "id": "e5e461ea-a452-4fe2-95f0-95174bbf885c",
   "metadata": {},
   "outputs": [],
   "source": [
    "# Combine preprocessing steps\n",
    "preprocessor = ColumnTransformer(\n",
    "    transformers=[\n",
    "        ('num', numeric_transformer, numeric_features),\n",
    "        ('cat', categorical_transformer, categorical_features)\n",
    "    ])"
   ]
  },
  {
   "cell_type": "code",
   "execution_count": 18,
   "id": "55adc5a6-a735-478d-a695-e386b1235f82",
   "metadata": {},
   "outputs": [],
   "source": [
    "# Fit and transform the data\n",
    "df_preprocessed = preprocessor.fit_transform(df_selected)"
   ]
  },
  {
   "cell_type": "code",
   "execution_count": 19,
   "id": "5261a686-581c-46c2-a9f4-139d1799ad65",
   "metadata": {},
   "outputs": [
    {
     "name": "stdout",
     "output_type": "stream",
     "text": [
      "Shape after preprocessing: (1433, 3160)\n"
     ]
    }
   ],
   "source": [
    "print(\"Shape after preprocessing:\", df_preprocessed.shape)"
   ]
  },
  {
   "cell_type": "markdown",
   "id": "eb199456-b0a4-4663-b45d-931fa284163d",
   "metadata": {},
   "source": [
    "**Explanation:**  \n",
    "We've identified the actual columns in the dataset, separated them into numeric and categorical features, and applied appropriate preprocessing steps.  "
   ]
  }
 ],
 "metadata": {
  "kernelspec": {
   "display_name": "Python 3 (ipykernel)",
   "language": "python",
   "name": "python3"
  },
  "language_info": {
   "codemirror_mode": {
    "name": "ipython",
    "version": 3
   },
   "file_extension": ".py",
   "mimetype": "text/x-python",
   "name": "python",
   "nbconvert_exporter": "python",
   "pygments_lexer": "ipython3",
   "version": "3.12.0"
  }
 },
 "nbformat": 4,
 "nbformat_minor": 5
}
